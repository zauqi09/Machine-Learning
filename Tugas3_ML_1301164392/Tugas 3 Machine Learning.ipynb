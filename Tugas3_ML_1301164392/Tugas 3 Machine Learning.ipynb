{
 "cells": [
  {
   "cell_type": "markdown",
   "metadata": {},
   "source": [
    "# Machine Learning Tugas 3 Q-Learning\n",
    "## Fuad Zauqi Nur (1301164392)"
   ]
  },
  {
   "cell_type": "markdown",
   "metadata": {},
   "source": [
    "Menginport library yang diperlukan seperti numpy, pandas dan random."
   ]
  },
  {
   "cell_type": "code",
   "execution_count": 530,
   "metadata": {},
   "outputs": [],
   "source": [
    "import numpy as np\n",
    "import pandas as pd\n",
    "import random"
   ]
  },
  {
   "cell_type": "markdown",
   "metadata": {},
   "source": [
    "Menginisiasi Tabel R"
   ]
  },
  {
   "cell_type": "code",
   "execution_count": 531,
   "metadata": {},
   "outputs": [],
   "source": [
    "TR = pd.read_csv('DataTugas3ML2019.txt', sep=\"\\t\", header=None)"
   ]
  },
  {
   "cell_type": "markdown",
   "metadata": {},
   "source": [
    "Menginisiasi Tabel Q"
   ]
  },
  {
   "cell_type": "code",
   "execution_count": 532,
   "metadata": {},
   "outputs": [],
   "source": [
    "nol = np.zeros(225)\n",
    "Q = {'N': nol, 'E': nol, 'S': nol, 'W': nol}\n",
    "TQ = pd.DataFrame(data=Q)"
   ]
  },
  {
   "cell_type": "markdown",
   "metadata": {},
   "source": [
    "Menginisiasi gamma dan alpha dengan 1 dan jumlah episode 100"
   ]
  },
  {
   "cell_type": "code",
   "execution_count": 533,
   "metadata": {},
   "outputs": [],
   "source": [
    "gamma= 1\n",
    "jumlahepisode= 100\n",
    "alpha = 1"
   ]
  },
  {
   "cell_type": "markdown",
   "metadata": {},
   "source": [
    "Fungsi Move adalah fungsi untuk mengubah kordinat x dan y sesuai dengan arah gerakan sekaligus agar arah gerakan agen valid, yang artinya tetap di kordinat 15x15."
   ]
  },
  {
   "cell_type": "code",
   "execution_count": 534,
   "metadata": {},
   "outputs": [],
   "source": [
    "def Move(x, y):\n",
    "    act = ''\n",
    "    valid = False\n",
    "\n",
    "    while valid == False:\n",
    "        newx = x\n",
    "        newy = y\n",
    "        action = random.randint(1, 4)\n",
    "        if (action == 1): #north\n",
    "            act = 'N'\n",
    "            newy = y -1\n",
    "            if (newy  <= 14 and newy >= 0):\n",
    "                valid = True\n",
    "        elif (action == 2): #east\n",
    "            newx = x + 1\n",
    "            act = 'E'\n",
    "            if (newx  <= 14 and newx >= 0):\n",
    "                valid = True\n",
    "        elif (action == 3): #west\n",
    "            act = 'W'\n",
    "            newx = x -1\n",
    "            if (newx  <= 14 and newx >= 0):\n",
    "                valid = True\n",
    "        elif (action == 4): #south\n",
    "            act ='S'\n",
    "            newy = y + 1\n",
    "            if (newy <= 14 and newy >= 0):\n",
    "                valid = True\n",
    "    result = [newx, newy, act]\n",
    "    return result"
   ]
  },
  {
   "cell_type": "markdown",
   "metadata": {},
   "source": [
    "Main program dari q-learning, pada bagian ini LR adalah list reward yang berfungsi untuk mencari max reward, statex dan statey adalah kordinat x dan y, dan koordinat dimulai pada 0,14 dan diakhiri pada 14,0."
   ]
  },
  {
   "cell_type": "code",
   "execution_count": 535,
   "metadata": {},
   "outputs": [
    {
     "name": "stdout",
     "output_type": "stream",
     "text": [
      "Learning...\n",
      "Learning Successful!\n",
      "Total Reward Maximum is : 312\n",
      "The Optimal Path is at Episode : 39\n"
     ]
    }
   ],
   "source": [
    "LR = []\n",
    "path =[]\n",
    "print('Learning...')\n",
    "for i in range(0, jumlahepisode):\n",
    "    statex = 0\n",
    "    statey = 14\n",
    "    reward = 0\n",
    "    while statex != 14 or statey != 0:  \n",
    "        action = Move(statex, statey)       \n",
    "        TQ[action[2]][statex + statey] = TQ[action[2]][statex + statey] + (alpha * (TR[action[0]][action[1]] + (gamma * max(TQ.iloc[action[0] + action[1]]) -  TQ[action[2]][statex + statey]))) \n",
    "        reward = reward + TR[statex][statey]\n",
    "        statex = action[0]\n",
    "        statey = action[1]\n",
    "    reward = reward + TR[14][0] \n",
    "    path.append(reward)\n",
    "    LR.append(reward)\n",
    "print('Learning Successful!')     \n",
    "print('Total Reward Maximum is :', max(LR))\n",
    "for j in range(0, jumlahepisode):\n",
    "    if (path[j]==max(LR)):\n",
    "        print('The Optimal Path is at Episode :',j)"
   ]
  }
 ],
 "metadata": {
  "kernelspec": {
   "display_name": "Python 3",
   "language": "python",
   "name": "python3"
  }
 },
 "nbformat": 4,
 "nbformat_minor": 2
}
