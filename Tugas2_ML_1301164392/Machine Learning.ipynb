{
 "cells": [
  {
   "cell_type": "markdown",
   "metadata": {},
   "source": [
    "## Self Organized Maps (Tugas 2 Machine Learning) Fuad Zauqi Nur (1301164392)\n",
    "\n",
    "\n",
    "Import beberapa library yang diperlukan seperti csv, random, math, matplotlib, dll untuk mendukung algoritma yang berjalan."
   ]
  },
  {
   "cell_type": "code",
   "execution_count": 993,
   "metadata": {},
   "outputs": [],
   "source": [
    "import csv\n",
    "import random\n",
    "import math\n",
    "from mpl_toolkits.mplot3d import axes3d\n",
    "import matplotlib.pyplot as plt\n",
    "import pandas as pd\n",
    "import numpy as np"
   ]
  },
  {
   "cell_type": "markdown",
   "metadata": {},
   "source": [
    "Inisialisasi beberapa variabel seperti Neighborhood dan Learning Rate.\n",
    "Keterangan :\n",
    "Learning Rate Awal = 0.6\n",
    "Neighborhood Awal = 3\n",
    "Jumlah Neuron = 12"
   ]
  },
  {
   "cell_type": "code",
   "execution_count": 994,
   "metadata": {},
   "outputs": [],
   "source": [
    "nh = 3\n",
    "lr = 0.6\n",
    "jneuron = 12\n",
    "dneuron = []\n",
    "x1 = []\n",
    "x2 = []\n",
    "list_bobot=[]\n",
    "neuron = 0\n",
    "bobotbaru1=0\n",
    "bobotbaru2=0\n",
    "train1=[]\n",
    "train2=[]"
   ]
  },
  {
   "cell_type": "markdown",
   "metadata": {},
   "source": [
    "Mengimport DatasetTanpaLabel.csv dan disimpan pada variabel datas, lalu di jadikan dua list yaitu kolom 1 dan kolom 2 dan diubah tipe data setiap valuenya menjadi float agar dapat dioperasikan."
   ]
  },
  {
   "cell_type": "code",
   "execution_count": 995,
   "metadata": {},
   "outputs": [],
   "source": [
    "datas = csv.reader(open(\"DatasetTanpaLabel.csv\"))\n",
    "for row in datas:\n",
    "    x1.append(float(row[0]))\n",
    "    x2.append(float(row[1]))"
   ]
  },
  {
   "cell_type": "markdown",
   "metadata": {},
   "source": [
    "Membuat Neuron 2 dimensi sebanyak 12 secara acak lalu disimpan pada list dneuron"
   ]
  },
  {
   "cell_type": "code",
   "execution_count": 996,
   "metadata": {},
   "outputs": [],
   "source": [
    "for h in range(jneuron):\n",
    "    dneuron.append([np.random.uniform(4,16),np.random.uniform(4,16)])"
   ]
  },
  {
   "cell_type": "markdown",
   "metadata": {},
   "source": [
    "Rumus Euclidean Distance untuk menghitung jarak antar neuron dengan objeknya"
   ]
  },
  {
   "cell_type": "code",
   "execution_count": 997,
   "metadata": {},
   "outputs": [],
   "source": [
    "def eucl_dist(o1,o2,n):\n",
    "    return math.sqrt((n[0]-o1)**2+(n[1]-o2)**2)"
   ]
  },
  {
   "cell_type": "markdown",
   "metadata": {},
   "source": [
    "Fungsi untuk mencari Neuron pemenang setelah dihitung jarak menggunakan Euclidean Distance"
   ]
  },
  {
   "cell_type": "code",
   "execution_count": 998,
   "metadata": {},
   "outputs": [],
   "source": [
    "def neuronwin(d1,d2,d3,d4,d5,d6,d7,d8,d9,d10,d11,d12):\n",
    "    if d1<d2 and d1<d3 and d1<d4 and d1<d5 and d1<d6 and d1<d7 and d1<d8 and d1<d9 and d1<d10 and d1<d11 and d1<d12 :\n",
    "        return 0\n",
    "    elif d2<d1 and d2<d3 and d2<d4 and d2<d5 and d2<d6 and d2<d7 and d2<d8 and d2<d9 and d2<d10 and d2<d11 and d2<d12 :\n",
    "        return 1\n",
    "    elif d3<d1 and d3<d2 and d3<d4 and d3<d5 and d3<d6 and d3<d7 and d3<d8 and d3<d9 and d3<d10 and d3<d11 and d3<d12 :\n",
    "        return 2\n",
    "    elif d4<d1 and d4<d2 and d4<d3 and d4<d5 and d4<d6 and d4<d7 and d4<d8 and d4<d9 and d4<d10 and d4<d11 and d4<d12 :\n",
    "        return 3\n",
    "    elif d5<d1 and d5<d2 and d5<d3 and d5<d4 and d5<d6 and d5<d7 and d5<d8 and d5<d9 and d5<d10 and d5<d11 and d5<d12 :\n",
    "        return 4\n",
    "    elif d6<d1 and d6<d2 and d6<d3 and d6<d4 and d6<d5 and d6<d7 and d6<d8 and d6<d9 and d6<d10 and d6<d11 and d6<d12  :\n",
    "        return 5\n",
    "    elif d7<d1 and d7<d2 and d7<d3 and d7<d4 and d7<d5 and d7<d6 and d7<d8 and d7<d9 and d7<d10 and d7<d11 and d7<d12 :\n",
    "        return 6\n",
    "    elif d8<d1 and d8<d2 and d8<d3 and d8<d4 and d8<d5 and d8<d6 and d8<d7 and d8<d9 and d8<d10 and d8<d11 and d8<d12 :\n",
    "        return 7\n",
    "    elif d9<d1 and d9<d2 and d9<d3 and d9<d4 and d9<d5 and d9<d6 and d9<d7 and d9<d8 and d9<d10 and d9<d11 and d9<d12 :\n",
    "        return 8\n",
    "    elif d10<d1 and d10<d2 and d10<d3 and d10<d4 and d10<d5 and d10<d6 and d10<d8 and d10<d9 and d10<d7 and d10<d11 and d10<d12 :\n",
    "        return 9\n",
    "    elif d11<d1 and d11<d2 and d11<d3 and d11<d4 and d11<d5 and d11<d6 and d11<d8 and d11<d9 and d11<d10 and d11<d7 and d11<d12 :\n",
    "        return 10\n",
    "    else :\n",
    "        return 11\n"
   ]
  },
  {
   "cell_type": "markdown",
   "metadata": {},
   "source": [
    "Fungsi S adalah mencari jarak neuron indeks j ke indeks neuron pemenang\n",
    "Fungsi T adalah rumus T untuk mencari bobot baru\n",
    "Fungsi bobotbaru1 adalah fungsi untuk mencari bobot baru pada kolom 1 \n",
    "Fungis bobotbaru2 adalah fungsi untuk mencari bobot baru pada kolom 2"
   ]
  },
  {
   "cell_type": "code",
   "execution_count": 999,
   "metadata": {},
   "outputs": [],
   "source": [
    "def S(n,win):\n",
    "    return math.sqrt((n[0]-win[0])**2+(n[1]-win[1])**2)\n",
    "def T(s,lr):\n",
    "    return math.exp((-s**2)/2*nh**2)\n",
    "def bobotbaru1(n,T,x1,w,i):\n",
    "    return n*T*(x1[i]-w)\n",
    "def bobotbaru2(n,T,x2,w,i):\n",
    "    return n*T*(x2[i]-w)"
   ]
  },
  {
   "cell_type": "markdown",
   "metadata": {},
   "source": [
    "Program utama pada program ini.\n",
    "variabel c adalah jumlah iterasi pada looping.\n",
    "nilai i didapat secara random dari 0 hingga 599, berfungsi untuk memanggil index i secara acak.\n",
    "D1-D12 mencari jarak dengan fungsi eucl_dist, lalu mencari jarak minimum dengan fungsi neuronwin().\n",
    "variabel j adalah iterasi untuk sejumlah neuron.\n",
    "x adalah variabel penampung untuk mencari S.\n",
    "y adalah variabel penampung untuk mencari t.\n",
    "Melakukan penghitungan bobot baru menggunakan fungsi bobotbaru1() dan bobotbaru2()\n",
    "Kemudian memperbarui nilai learning rate dan neighborhood.\n",
    "Nilai pada dneuron kolom 1 dan kolom 2 dimasukan kedalam 2 list berbeda yang berfungsi untuk agar mudah dipanggil untuk memvisualisasikan hasil akhir menggunakan matplotlib.\n",
    "Visualisasi dengan warna biru sebagai objeknya dan kuning sebagai neuronnya."
   ]
  },
  {
   "cell_type": "code",
   "execution_count": 1000,
   "metadata": {
    "scrolled": true
   },
   "outputs": [
    {
     "name": "stdout",
     "output_type": "stream",
     "text": [
      "[[16.385683187962435, 9.925955649310147], [14.126606415320495, 15.051511353992554], [4.3012666164538675, 12.957012751699471], [12.809658073940918, 4.512516300030707], [10.80253406720234, 11.00662404492172], [13.688364287607232, 14.803238511524594], [4.324276310818119, 7.187573493829166], [8.72874080829497, 3.8181783085850354], [8.578048787571944, 16.371605138661963], [10.27584453345188, 8.25542785523069], [14.338776998701087, 4.998009218087812], [8.113527058148442, 9.731754078455255]]\n"
     ]
    },
    {
     "data": {
      "image/png": "[encoded data removed]",
      "text/plain": [
       "<Figure size 432x288 with 1 Axes>"
      ]
     },
     "metadata": {
      "needs_background": "light"
     },
     "output_type": "display_data"
    }
   ],
   "source": [
    "c=0\n",
    "while c < 102000:\n",
    "    i=np.random.randint(0,599)\n",
    "    D1=eucl_dist(x1[i],x2[i],dneuron[0])\n",
    "    D2=eucl_dist(x1[i],x2[i],dneuron[1])\n",
    "    D3=eucl_dist(x1[i],x2[i],dneuron[2])\n",
    "    D4=eucl_dist(x1[i],x2[i],dneuron[3])\n",
    "    D5=eucl_dist(x1[i],x2[i],dneuron[4])\n",
    "    D6=eucl_dist(x1[i],x2[i],dneuron[5])\n",
    "    D7=eucl_dist(x1[i],x2[i],dneuron[6])\n",
    "    D8=eucl_dist(x1[i],x2[i],dneuron[7])\n",
    "    D9=eucl_dist(x1[i],x2[i],dneuron[8])\n",
    "    D10=eucl_dist(x1[i],x2[i],dneuron[9])\n",
    "    D11=eucl_dist(x1[i],x2[i],dneuron[10])\n",
    "    D12=eucl_dist(x1[i],x2[i],dneuron[11])\n",
    "    neuron=neuronwin(D1,D2,D3,D4,D5,D6,D7,D8,D9,D10,D11,D12)\n",
    "    j=0\n",
    "    while j <=11 :\n",
    "        x=S(dneuron[j],dneuron[neuron])\n",
    "        y=T(x,lr)\n",
    "        dneuron[j][0]= bobotbaru1(lr,y,x1,dneuron[neuron][0],i) + dneuron[j][0]\n",
    "        dneuron[j][1]= bobotbaru2(lr,y,x2,dneuron[neuron][1],i) + dneuron[j][1]\n",
    "        j=j+1\n",
    "    lr=lr*(math.exp(-(i+1)/102001))\n",
    "    nh=nh*(math.exp(-(i+1)/102001))\n",
    "    c=c+1\n",
    "for row in dneuron:\n",
    "    train1.append(row[0])\n",
    "    train2.append(row[1])\n",
    "print(dneuron)\n",
    "plt.scatter(x1, x2, c='blue', marker='o')\n",
    "plt.scatter(train1,train2, c='yellow', marker='o')\n",
    "plt.show()"
   ]
  },
  {
   "cell_type": "code",
   "execution_count": null,
   "metadata": {},
   "outputs": [],
   "source": []
  }
 ],
 "metadata": {
  "kernelspec": {
   "display_name": "Python 3",
   "language": "python",
   "name": "python3"
  },
  "language_info": {
   "codemirror_mode": {
    "name": "ipython",
    "version": 3
   },
   "file_extension": ".py",
   "mimetype": "text/x-python",
   "name": "python",
   "nbconvert_exporter": "python",
   "pygments_lexer": "ipython3",
   "version": "3.7.3"
  }
 },
 "nbformat": 4,
 "nbformat_minor": 2
}
